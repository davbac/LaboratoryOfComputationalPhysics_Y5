{
 "cells": [
  {
   "cell_type": "markdown",
   "metadata": {},
   "source": [
    "### Numpy basics"
   ]
  },
  {
   "cell_type": "markdown",
   "metadata": {},
   "source": [
    "1\\. Find the row, column and overall means for the following matrix:\n",
    "\n",
    "```python\n",
    "m = np.arange(12).reshape((3,4))\n",
    "```"
   ]
  },
  {
   "cell_type": "code",
   "execution_count": 1,
   "metadata": {},
   "outputs": [
    {
     "name": "stdout",
     "output_type": "stream",
     "text": [
      "[[ 0  1  2  3]\n",
      " [ 4  5  6  7]\n",
      " [ 8  9 10 11]] [12 15 18 21] [ 6 22 38] 66\n"
     ]
    }
   ],
   "source": [
    "import numpy as np\n",
    "m=np.arange(12).reshape((3,4))\n",
    "print(m, m.sum(axis=0), m.sum(axis=1), m.sum().sum())"
   ]
  },
  {
   "cell_type": "markdown",
   "metadata": {},
   "source": [
    "2\\. Find the outer product of the following two vecotrs\n",
    "\n",
    "```python\n",
    "u = np.array([1,3,5,7])\n",
    "v = np.array([2,4,6,8])\n",
    "```\n",
    "\n",
    "Do this in the following ways:\n",
    "\n",
    "   * Using the function outer in numpy\n",
    "   * Using a nested for loop or list comprehension\n",
    "   * Using numpy broadcasting operatoins\n"
   ]
  },
  {
   "cell_type": "code",
   "execution_count": 2,
   "metadata": {},
   "outputs": [
    {
     "name": "stdout",
     "output_type": "stream",
     "text": [
      "[[ 2  4  6  8]\n",
      " [ 6 12 18 24]\n",
      " [10 20 30 40]\n",
      " [14 28 42 56]]\n",
      "[[ 2  4  6  8]\n",
      " [ 6 12 18 24]\n",
      " [10 20 30 40]\n",
      " [14 28 42 56]]\n",
      "[[ 2  4  6  8]\n",
      " [ 6 12 18 24]\n",
      " [10 20 30 40]\n",
      " [14 28 42 56]]\n"
     ]
    }
   ],
   "source": [
    "u=np.array([1,3,5,7])\n",
    "v=np.array([2,4,6,8])\n",
    "outer_np=np.outer(u,v)\n",
    "outer_lc=np.array([[i*j for j in v] for i in u])\n",
    "outer_bc=u.reshape(4,1)*v\n",
    "print(outer_np)\n",
    "print(outer_lc)\n",
    "print(outer_bc)\n"
   ]
  },
  {
   "cell_type": "markdown",
   "metadata": {},
   "source": [
    "3\\. Create a 10 by 6 matrix of random uniform numbers. Set all rows with any entry less than 0.1 to be zero\n",
    "\n",
    "Hint: Use the following numpy functions - np.random.random, np.any as well as Boolean indexing and the axis argument."
   ]
  },
  {
   "cell_type": "code",
   "execution_count": 3,
   "metadata": {},
   "outputs": [
    {
     "name": "stdout",
     "output_type": "stream",
     "text": [
      "[[1.08337483e-01 4.03154011e-01 7.83993609e-01 3.47699843e-01\n",
      "  4.39354054e-01 3.19659353e-01]\n",
      " [5.71908872e-01 5.87233934e-01 7.90012149e-01 6.66960384e-01\n",
      "  1.41295488e-01 9.40601946e-01]\n",
      " [5.75946047e-01 9.96631014e-01 1.87259293e-01 8.03869260e-02\n",
      "  7.68454686e-02 7.47821406e-02]\n",
      " [5.99344808e-01 3.62856090e-02 7.09262664e-01 6.45482203e-01\n",
      "  1.43233674e-02 9.05051743e-02]\n",
      " [6.94849242e-01 4.56795752e-01 5.18499495e-01 2.48204398e-01\n",
      "  5.22492897e-01 5.43171570e-01]\n",
      " [9.38010521e-01 3.64076758e-01 7.26395708e-01 5.06645243e-01\n",
      "  4.98595167e-05 9.57136379e-01]\n",
      " [3.52512223e-01 9.03880807e-01 9.42035368e-01 6.86206669e-01\n",
      "  1.30070868e-01 9.27907303e-01]\n",
      " [6.79818943e-01 3.41836421e-01 6.22310054e-01 8.75361146e-01\n",
      "  9.15795595e-01 4.27146747e-01]\n",
      " [2.00705280e-01 3.73197457e-01 8.48358287e-01 5.79802646e-01\n",
      "  7.40465118e-01 2.25687251e-01]\n",
      " [7.13179056e-01 8.75231608e-01 1.41781899e-01 8.40466311e-01\n",
      "  8.69242718e-01 2.75686582e-01]]\n",
      "[[0.10833748 0.40315401 0.78399361 0.34769984 0.43935405 0.31965935]\n",
      " [0.57190887 0.58723393 0.79001215 0.66696038 0.14129549 0.94060195]\n",
      " [0.57594605 0.99663101 0.18725929 0.         0.         0.        ]\n",
      " [0.59934481 0.         0.70926266 0.6454822  0.         0.        ]\n",
      " [0.69484924 0.45679575 0.51849949 0.2482044  0.5224929  0.54317157]\n",
      " [0.93801052 0.36407676 0.72639571 0.50664524 0.         0.95713638]\n",
      " [0.35251222 0.90388081 0.94203537 0.68620667 0.13007087 0.9279073 ]\n",
      " [0.67981894 0.34183642 0.62231005 0.87536115 0.9157956  0.42714675]\n",
      " [0.20070528 0.37319746 0.84835829 0.57980265 0.74046512 0.22568725]\n",
      " [0.71317906 0.87523161 0.1417819  0.84046631 0.86924272 0.27568658]]\n"
     ]
    }
   ],
   "source": [
    "m=np.random.uniform(0,1, (10,6))\n",
    "print(m)\n",
    "m[m<0.1]=0\n",
    "print(m)"
   ]
  },
  {
   "cell_type": "markdown",
   "metadata": {},
   "source": [
    "4\\. Use np.linspace to create an array of 100 numbers between 0 and 2π (includsive).\n",
    "\n",
    "  * Extract every 10th element using slice notation\n",
    "  * Reverse the array using slice notation\n",
    "  * Extract elements where the absolute difference between the sine and cosine functions evaluated at that element is less than 0.1\n",
    "  * Make a plot showing the sin and cos functions and indicate where they are close"
   ]
  },
  {
   "cell_type": "code",
   "execution_count": 4,
   "metadata": {},
   "outputs": [
    {
     "name": "stdout",
     "output_type": "stream",
     "text": [
      "[0.         0.63466518 1.26933037 1.90399555 2.53866073 3.17332591\n",
      " 3.8079911  4.44265628 5.07732146 5.71198664]\n",
      "[6.28318531 6.21971879 6.15625227 6.09278575 6.02931923 5.96585272\n",
      " 5.9023862  5.83891968 5.77545316 5.71198664 5.64852012 5.58505361\n",
      " 5.52158709 5.45812057 5.39465405 5.33118753 5.26772102 5.2042545\n",
      " 5.14078798 5.07732146 5.01385494 4.95038842 4.88692191 4.82345539\n",
      " 4.75998887 4.69652235 4.63305583 4.56958931 4.5061228  4.44265628\n",
      " 4.37918976 4.31572324 4.25225672 4.1887902  4.12532369 4.06185717\n",
      " 3.99839065 3.93492413 3.87145761 3.8079911  3.74452458 3.68105806\n",
      " 3.61759154 3.55412502 3.4906585  3.42719199 3.36372547 3.30025895\n",
      " 3.23679243 3.17332591 3.10985939 3.04639288 2.98292636 2.91945984\n",
      " 2.85599332 2.7925268  2.72906028 2.66559377 2.60212725 2.53866073\n",
      " 2.47519421 2.41172769 2.34826118 2.28479466 2.22132814 2.15786162\n",
      " 2.0943951  2.03092858 1.96746207 1.90399555 1.84052903 1.77706251\n",
      " 1.71359599 1.65012947 1.58666296 1.52319644 1.45972992 1.3962634\n",
      " 1.33279688 1.26933037 1.20586385 1.14239733 1.07893081 1.01546429\n",
      " 0.95199777 0.88853126 0.82506474 0.76159822 0.6981317  0.63466518\n",
      " 0.57119866 0.50773215 0.44426563 0.38079911 0.31733259 0.25386607\n",
      " 0.19039955 0.12693304 0.06346652 0.        ]\n",
      "[0.76159822 0.82506474 3.87145761 3.93492413]\n"
     ]
    },
    {
     "data": {
      "image/png": "[encoded data removed]",
      "text/plain": [
       "<Figure size 432x288 with 1 Axes>"
      ]
     },
     "metadata": {
      "needs_background": "light"
     },
     "output_type": "display_data"
    }
   ],
   "source": [
    "a=np.linspace(0,2*np.pi, 100)\n",
    "print(a[::10])\n",
    "print(a[::-1])\n",
    "b=a[abs(np.sin(a)-np.cos(a))<0.1]\n",
    "print(b)\n",
    "import matplotlib.pyplot as plt\n",
    "plt.plot(a, np.sin(a))\n",
    "plt.plot(a, np.cos(a))\n",
    "plt.plot(b, np.sin(b), \"o\")\n",
    "plt.plot(b, np.cos(b), \"o\")\n",
    "plt.show()"
   ]
  },
  {
   "cell_type": "markdown",
   "metadata": {},
   "source": [
    "5\\. Create a matrix that shows the 10 by 10 multiplication table.\n",
    "\n",
    " * Find the trace of the matrix\n",
    " * Extract the anto-diagonal (this should be ```array([10, 18, 24, 28, 30, 30, 28, 24, 18, 10])```)\n",
    " * Extract the diagnoal offset by 1 upwards (this should be ```array([ 2,  6, 12, 20, 30, 42, 56, 72, 90])```)"
   ]
  },
  {
   "cell_type": "code",
   "execution_count": 5,
   "metadata": {},
   "outputs": [
    {
     "name": "stdout",
     "output_type": "stream",
     "text": [
      "[[  1   2   3   4   5   6   7   8   9  10]\n",
      " [  2   4   6   8  10  12  14  16  18  20]\n",
      " [  3   6   9  12  15  18  21  24  27  30]\n",
      " [  4   8  12  16  20  24  28  32  36  40]\n",
      " [  5  10  15  20  25  30  35  40  45  50]\n",
      " [  6  12  18  24  30  36  42  48  54  60]\n",
      " [  7  14  21  28  35  42  49  56  63  70]\n",
      " [  8  16  24  32  40  48  56  64  72  80]\n",
      " [  9  18  27  36  45  54  63  72  81  90]\n",
      " [ 10  20  30  40  50  60  70  80  90 100]]\n",
      "[10 18 24 28 30 30 28 24 18 10]\n",
      "[ 2  6 12 20 30 42 56 72 90]\n"
     ]
    }
   ],
   "source": [
    "m=np.arange(1,11).reshape(10,1)*np.arange(1,11)\n",
    "print(m)\n",
    "antid=m[np.arange(10),np.arange(9,-1,-1)]\n",
    "print(antid)\n",
    "diag_off=m[np.arange(9), np.arange(1,10)]\n",
    "print(diag_off)"
   ]
  },
  {
   "cell_type": "markdown",
   "metadata": {},
   "source": [
    "6\\. Use broadcasting to create a grid of distances\n",
    "\n",
    "Route 66 crosses the following cities in the US: Chicago, Springfield, Saint-Louis, Tulsa, Oklahoma City, Amarillo, Santa Fe, Albuquerque, Flagstaff, Los Angeles\n",
    "The corresponding positions in miles are: 0, 198, 303, 736, 871, 1175, 1475, 1544, 1913, 2448\n",
    "\n",
    "  * Construct a 2D grid of distances among each city along Route 66\n",
    "  * Convert that in km (those savages...)"
   ]
  },
  {
   "cell_type": "code",
   "execution_count": 6,
   "metadata": {},
   "outputs": [
    {
     "name": "stdout",
     "output_type": "stream",
     "text": [
      "[[   0  198  303  736  871 1175 1475 1544 1913 2448]\n",
      " [ 198    0  105  538  673  977 1277 1346 1715 2250]\n",
      " [ 303  105    0  433  568  872 1172 1241 1610 2145]\n",
      " [ 736  538  433    0  135  439  739  808 1177 1712]\n",
      " [ 871  673  568  135    0  304  604  673 1042 1577]\n",
      " [1175  977  872  439  304    0  300  369  738 1273]\n",
      " [1475 1277 1172  739  604  300    0   69  438  973]\n",
      " [1544 1346 1241  808  673  369   69    0  369  904]\n",
      " [1913 1715 1610 1177 1042  738  438  369    0  535]\n",
      " [2448 2250 2145 1712 1577 1273  973  904  535    0]]\n",
      "[[   0.          123.05779988  188.31572405  457.42697328  541.33001865\n",
      "   730.26724674  916.71845867  959.60223741 1188.93722809 1521.44188937]\n",
      " [ 123.05779988    0.           65.25792418  334.3691734   418.27221877\n",
      "   607.20944686  793.66065879  836.54443754 1065.87942822 1398.3840895 ]\n",
      " [ 188.31572405   65.25792418    0.          269.11124922  353.01429459\n",
      "   541.95152268  728.40273462  771.28651336 1000.62150404 1333.12616532]\n",
      " [ 457.42697328  334.3691734   269.11124922    0.           83.90304537\n",
      "   272.84027346  459.29148539  502.17526414  731.51025482 1064.0149161 ]\n",
      " [ 541.33001865  418.27221877  353.01429459   83.90304537    0.\n",
      "   188.93722809  375.38844002  418.27221877  647.60720945  980.11187073]\n",
      " [ 730.26724674  607.20944686  541.95152268  272.84027346  188.93722809\n",
      "     0.          186.45121193  229.33499068  458.66998135  791.17464264]\n",
      " [ 916.71845867  793.66065879  728.40273462  459.29148539  375.38844002\n",
      "   186.45121193    0.           42.88377874  272.21876942  604.7234307 ]\n",
      " [ 959.60223741  836.54443754  771.28651336  502.17526414  418.27221877\n",
      "   229.33499068   42.88377874    0.          229.33499068  561.83965196]\n",
      " [1188.93722809 1065.87942822 1000.62150404  731.51025482  647.60720945\n",
      "   458.66998135  272.21876942  229.33499068    0.          332.50466128]\n",
      " [1521.44188937 1398.3840895  1333.12616532 1064.0149161   980.11187073\n",
      "   791.17464264  604.7234307   561.83965196  332.50466128    0.        ]]\n"
     ]
    }
   ],
   "source": [
    "pos=np.array([0,198, 303,736,871,1175,1475,1544,1913,2448])\n",
    "dist_mat=abs(pos.reshape(10,1)-pos)\n",
    "print(dist_mat)\n",
    "print(dist_mat/1.609)"
   ]
  },
  {
   "cell_type": "markdown",
   "metadata": {},
   "source": [
    "7\\. Prime numbers sieve: compute the prime numbers in the 0-N (N=99 to start with) range with a sieve (mask).\n",
    "  * Constract a shape (100,) boolean array, the mask\n",
    "  * Identify the multiples of each number starting from 2 and set accordingly the corresponding mask element\n",
    "  * Apply the mask to obtain an array of ordered prime numbers\n",
    "  * Check the performances (timeit); how does it scale with N?\n",
    "  * Implement the optimization suggested in the [sieve of Eratosthenes](https://en.wikipedia.org/wiki/Sieve_of_Eratosthenes)"
   ]
  },
  {
   "cell_type": "code",
   "execution_count": 7,
   "metadata": {},
   "outputs": [
    {
     "name": "stdout",
     "output_type": "stream",
     "text": [
      "11.8 µs ± 959 ns per loop (mean ± std. dev. of 7 runs, 100000 loops each)\n",
      "222 µs ± 1.19 µs per loop (mean ± std. dev. of 7 runs, 1000 loops each)\n",
      "12.5 ms ± 198 µs per loop (mean ± std. dev. of 7 runs, 100 loops each)\n",
      "846 ms ± 5.08 ms per loop (mean ± std. dev. of 7 runs, 1 loop each)\n",
      "4\n",
      "25\n",
      "168\n",
      "1229\n"
     ]
    }
   ],
   "source": [
    "def primes_upto(n):\n",
    "    mask=np.array([True for _ in range(n)])\n",
    "    for i in range(2,n):\n",
    "        if not mask[i]:\n",
    "            continue\n",
    "        for j in range(i+1, n):\n",
    "            if not mask[j]:\n",
    "                continue\n",
    "            if not j%i:\n",
    "                mask[j]=False\n",
    "                #print(i,j)\n",
    "    return np.arange(0,n)[mask][2:]\n",
    "\n",
    "%timeit primes_upto(10)\n",
    "%timeit primes_upto(100)\n",
    "%timeit primes_upto(1000)\n",
    "%timeit primes_upto(10000)\n",
    "\n",
    "print(len(primes_upto(10)))\n",
    "print(len(primes_upto(100)))\n",
    "print(len(primes_upto(1000)))\n",
    "print(len(primes_upto(10000)))\n",
    "#0.44 us/n**2\n",
    "#0.27 us/n**2\n",
    "#0.29 us/n**2\n",
    "#0.42 us/n**2"
   ]
  },
  {
   "cell_type": "markdown",
   "metadata": {},
   "source": [
    "**N.B. the following exercises are meant to be solved only if you are familiar with the numpy random library. If not you can skip them (postponed for one of the next exercise sessions)**\n"
   ]
  },
  {
   "cell_type": "markdown",
   "metadata": {},
   "source": [
    "8\\. Diffusion using random walk\n",
    "\n",
    "Consider a simple random walk process: at each step in time, a walker jumps right or left (+1 or -1) with equal probability. The goal is to find the typical distance from the origin of a random walker after a given amount of time. \n",
    "To do that, let's simulate many walkers and create a 2D array with each walker as a raw and the actual time evolution as columns\n",
    "\n",
    "  * Take 1000 walkers and let them walk for 200 steps\n",
    "  * Use randint to create a 2D array of size walkers x steps with values -1 or 1\n",
    "  * Build the actual walking distances for each walker (i.e. another 2D array \"summing on each raw\")\n",
    "  * Take the square of that 2D array (elementwise)\n",
    "  * Compute the mean of the squared distances at each step (i.e. the mean along the columns)\n",
    "  * Plot the average distances (sqrt(distance\\*\\*2)) as a function of time (step)\n",
    "  \n",
    "Did you get what you expected?"
   ]
  },
  {
   "cell_type": "code",
   "execution_count": 14,
   "metadata": {},
   "outputs": [
    {
     "data": {
      "image/png": "[encoded data removed]",
      "text/plain": [
       "<Figure size 432x288 with 2 Axes>"
      ]
     },
     "metadata": {
      "needs_background": "light"
     },
     "output_type": "display_data"
    }
   ],
   "source": [
    "fig,ax=plt.subplots(2)\n",
    "states=np.zeros(1000)\n",
    "paces=np.random.randint(0,2,(200, 1000))*2-1\n",
    "progress=paces.cumsum(axis=0)\n",
    "msq_hist=(progress**2).sum(axis=1)/1000\n",
    "states+=progress[-1]\n",
    "ax[0].set_xlabel(\"position\")\n",
    "ax[0].set_ylabel(\"freq\")\n",
    "b=ax[0].hist(states, bins=20)\n",
    "\n",
    "\n",
    "\n",
    "ax[1].plot(msq_hist**0.5)\n",
    "ax[1].set_xlabel(\"time\")\n",
    "ax[1].set_ylabel(\"mean square distance\")\n",
    "\n",
    "fig.tight_layout()"
   ]
  },
  {
   "cell_type": "markdown",
   "metadata": {},
   "source": [
    "9\\. Analyze a data file \n",
    "  * Download the population of hares, lynxes and carrots at the beginning of the last century.\n",
    "    ```python\n",
    "    ! wget https://www.dropbox.com/s/3vigxoqayo389uc/populations.txt\n",
    "    ```\n",
    "\n",
    "  * Check the content by looking within the file\n",
    "  * Load the data (use an appropriate numpy method) into a 2D array\n",
    "  * Create arrays out of the columns, the arrays being (in order): *year*, *hares*, *lynxes*, *carrots* \n",
    "  * Plot the 3 populations over the years\n",
    "  * Compute the main statistical properties of the dataset (mean, std, correlations, etc.)\n",
    "  * Which species has the highest population each year?\n",
    "\n",
    "Do you feel there is some evident correlation here? [Studies](https://www.enr.gov.nt.ca/en/services/lynx/lynx-snowshoe-hare-cycle) tend to believe so."
   ]
  },
  {
   "cell_type": "code",
   "execution_count": 47,
   "metadata": {},
   "outputs": [
    {
     "data": {
      "image/png": "[encoded data removed]",
      "text/plain": [
       "<Figure size 432x288 with 2 Axes>"
      ]
     },
     "metadata": {
      "needs_background": "light"
     },
     "output_type": "display_data"
    }
   ],
   "source": [
    "import pandas as pd\n",
    "df=pd.read_csv(\"populations.txt\", sep=\"\\t\")\n",
    "p=df.plot(x=\"# year\", secondary_y=\"carrot\")"
   ]
  }
 ],
 "metadata": {
  "kernelspec": {
   "display_name": "Python 3 (ipykernel)",
   "language": "python",
   "name": "python3"
  },
  "language_info": {
   "codemirror_mode": {
    "name": "ipython",
    "version": 3
   },
   "file_extension": ".py",
   "mimetype": "text/x-python",
   "name": "python",
   "nbconvert_exporter": "python",
   "pygments_lexer": "ipython3",
   "version": "3.10.6"
  }
 },
 "nbformat": 4,
 "nbformat_minor": 2
}
