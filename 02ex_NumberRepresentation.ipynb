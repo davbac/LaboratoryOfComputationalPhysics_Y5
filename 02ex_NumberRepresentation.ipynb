{
 "cells": [
  {
   "cell_type": "markdown",
   "metadata": {},
   "source": [
    "1\\. Write a function that converts number representation, bin<->dec<->hex. (Clearly using the corresponding python built-in functions is not fair..)"
   ]
  },
  {
   "cell_type": "code",
   "execution_count": 7,
   "metadata": {},
   "outputs": [
    {
     "data": {
      "text/plain": [
       "'10011011'"
      ]
     },
     "execution_count": 7,
     "metadata": {},
     "output_type": "execute_result"
    }
   ],
   "source": [
    "def to_base(i, b): #expects either an int or a string, returns a string\n",
    "    i=int(i)\n",
    "    s=\"\"\n",
    "    while i!=0:\n",
    "        r=i%b\n",
    "        #print(r)\n",
    "        if(r<10):\n",
    "            s=chr(48+r)+s\n",
    "        else:\n",
    "            s=chr(87+r)+s\n",
    "        i=i//b\n",
    "        #print(i)\n",
    "    return s\n",
    "\n",
    "to_base(155, 2)"
   ]
  },
  {
   "cell_type": "markdown",
   "metadata": {},
   "source": [
    "2\\. Write a function that converts a 32 bit word into a single precision floating point (i.e. interprets the various bits as sign, mantissa and exponent)"
   ]
  },
  {
   "cell_type": "code",
   "execution_count": 15,
   "metadata": {},
   "outputs": [
    {
     "name": "stdout",
     "output_type": "stream",
     "text": [
      "-2.3126798903933075e-15\n",
      "699836757.0\n"
     ]
    }
   ],
   "source": [
    "def myfloat(s:str):\n",
    "    bits=int(s)\n",
    "    sign=bits>>31\n",
    "    exp=(bits>>23)&0xff\n",
    "    mantissa=bits&0x7fffff\n",
    "    return mantissa*(2**(-150+exp))*(-1)**sign\n",
    "\n",
    "from ast import literal_eval\n",
    "print(myfloat(\"0101001101101101010100101010101\"))"
   ]
  },
  {
   "cell_type": "markdown",
   "metadata": {},
   "source": [
    "3\\. Write a program to determine the underflow and overflow limits (within a factor of 2) for python on your computer. \n",
    "\n",
    "**Tips**: define two variables inizialized to 1 and halve/double them enough time to exceed the under/over-flow limits  "
   ]
  },
  {
   "cell_type": "code",
   "execution_count": 17,
   "metadata": {},
   "outputs": [
    {
     "data": {
      "text/plain": [
       "(1025, -1074)"
      ]
     },
     "execution_count": 17,
     "metadata": {},
     "output_type": "execute_result"
    }
   ],
   "source": [
    "from numpy import isinf\n",
    "def float_limits():\n",
    "    i=1.0\n",
    "    o=1\n",
    "    while not isinf(i):\n",
    "        o+=1\n",
    "        i*=2\n",
    "    i=1.0\n",
    "    u=1\n",
    "    while i!=0:\n",
    "        u-=1\n",
    "        i/=2\n",
    "    \n",
    "    return o, u\n",
    "\n",
    "float_limits()"
   ]
  },
  {
   "cell_type": "markdown",
   "metadata": {},
   "source": [
    "4\\. Write a program to determine the machine precision\n",
    "\n",
    "**Tips**: define a new variable by adding a smaller and smaller value (proceeding similarly to prob. 2) to an original variable and check the point where the two are the same "
   ]
  },
  {
   "cell_type": "code",
   "execution_count": 25,
   "metadata": {},
   "outputs": [
    {
     "name": "stdout",
     "output_type": "stream",
     "text": [
      "-53\n"
     ]
    }
   ],
   "source": [
    "def prec():\n",
    "    i=1.0\n",
    "    p=1\n",
    "    newi=i+2**p\n",
    "    while newi!=i:\n",
    "        i=newi\n",
    "        newi=i+2**p\n",
    "        p-=1\n",
    "    return p\n",
    "\n",
    "print(prec())"
   ]
  },
  {
   "cell_type": "markdown",
   "metadata": {},
   "source": [
    "5\\. Write a function that takes in input three parameters $a$, $b$ and $c$ and prints out the two solutions to the quadratic equation $ax^2+bx+c=0$ using the standard formula:\n",
    "$$\n",
    "x=\\frac{-b\\pm\\sqrt{b^2-4ac}}{2a}\n",
    "$$\n",
    "\n",
    "(a) use the program to compute the solution for $a=0.001$, $b=1000$ and $c=0.001$\n",
    "\n",
    "(b) re-express the standard solution formula by multiplying top and bottom by $-b\\mp\\sqrt{b^2-4ac}$ and again find the solution for $a=0.001$, $b=1000$ and $c=0.001$. How does it compare with what previously obtained? Why?\n",
    "\n",
    "(c) write a function that compute the roots of a quadratic equation accurately in all cases"
   ]
  },
  {
   "cell_type": "code",
   "execution_count": 32,
   "metadata": {},
   "outputs": [
    {
     "name": "stdout",
     "output_type": "stream",
     "text": [
      "(-9.999894245993346e-07, -999999.999999)\n",
      "(-0.001000000000001, -1000010575.5125058)\n",
      "1.999978849198669e-09 1.999998e-06\n"
     ]
    }
   ],
   "source": [
    "def quad(a,b,c):\n",
    "    return ((-b+(b**2-4*a*c)**0.5)/(2*a), (-b-(b**2-4*a*c)**0.5)/(2*a))\n",
    "\n",
    "def quad_alt(a,b,c):\n",
    "    return (2*c/(a*(-b-(b**2-4*a*c)**0.5)), 2*c/(a*(-b+(b**2-4*a*c)**0.5)))\n",
    "a,b,c=0.001, 1000, 0.001\n",
    "print(quad(a,b,c))\n",
    "print(quad_alt(a,b,c))\n",
    "#print(b-(b**2-4*a*c)**0.5, 2*a*c-2*((a*c)**2))"
   ]
  },
  {
   "cell_type": "markdown",
   "metadata": {},
   "source": [
    "6\\. Write a program that implements the function $f(x)=x(x−1)$\n",
    "\n",
    "(a) Calculate the derivative of the function at the point $x = 1$ using the derivative definition:\n",
    "\n",
    "$$\n",
    "\\frac{{\\rm d}f}{{\\rm d}x} = \\lim_{\\delta\\to0} \\frac{f(x+\\delta)-f(x)}{\\delta}\n",
    "$$\n",
    "\n",
    "with $\\delta = 10^{−2}$. Calculate the true value of the same derivative analytically and compare with the answer your program gives. The two will not agree perfectly. Why not?\n",
    "\n",
    "(b) Repeat the calculation for $\\delta = 10^{−4}, 10^{−6}, 10^{−8}, 10^{−10}, 10^{−12}$ and $10^{−14}$. How does the accuracy scales with $\\delta$?"
   ]
  },
  {
   "cell_type": "code",
   "execution_count": 96,
   "metadata": {},
   "outputs": [
    {
     "name": "stdout",
     "output_type": "stream",
     "text": [
      "0.001 1.0009999999998895\n",
      "0.0001 1.0000999999998899\n",
      "1e-05 1.0000100000065513\n",
      "1e-06 1.0000009999177333\n",
      "1e-07 1.0000001005838672\n",
      "1e-08 1.0000000039225287\n",
      "1e-09 1.000000083740371\n",
      "1e-10 1.000000082840371\n",
      "1e-11 1.000000082750371\n",
      "1e-12 1.0000889005833413\n",
      "1e-13 0.9992007221627407\n",
      "1e-14 0.9992007221626509\n"
     ]
    },
    {
     "data": {
      "text/plain": [
       "[<matplotlib.lines.Line2D at 0x7f4935cdac80>]"
      ]
     },
     "execution_count": 96,
     "metadata": {},
     "output_type": "execute_result"
    },
    {
     "data": {
      "image/png": "[encoded data removed]",
      "text/plain": [
       "<Figure size 432x288 with 1 Axes>"
      ]
     },
     "metadata": {
      "needs_background": "light"
     },
     "output_type": "display_data"
    }
   ],
   "source": [
    "import matplotlib.pyplot as plt\n",
    "def myfunc(x):\n",
    "    return x*(x-1)\n",
    "\n",
    "def derivative(func, delta):\n",
    "    def d(x):\n",
    "        return (func(x+delta)-func(x))/delta\n",
    "    return d\n",
    "\n",
    "a=[]\n",
    "\n",
    "for i in range(3,15):\n",
    "    delta=10**(-i)\n",
    "    a.append([i, derivative(myfunc, delta)(1)])\n",
    "    print(delta, a[-1][1])\n",
    "    \n",
    "plt.plot([i[0] for i in a], [abs(1-i[1]) for i in a])"
   ]
  },
  {
   "cell_type": "markdown",
   "metadata": {},
   "source": [
    "7\\. Consider the integral of the semicircle of radius 1:\n",
    "$$\n",
    "I=\\int_{-1}^{1} \\sqrt(1-x^2) {\\rm d}x\n",
    "$$\n",
    "which it's known to be $I=\\frac{\\pi}{2}=1.57079632679...$.\n",
    "Alternatively we can use the Riemann definition of the integral:\n",
    "$$\n",
    "I=\\lim_{N\\to\\infty} \\sum_{k=1}^{N} h y_k \n",
    "$$\n",
    "\n",
    "with $h=2/N$ the width of each of the $N$ slices the domain is divided into and where\n",
    "$y_k$ is the value of the function at the $k-$th slice.\n",
    "\n",
    "(a) Write a programe to compute the integral with $N=100$. How does the result compares to the true value?\n",
    "\n",
    "(b) How much can $N$ be increased if the computation needs to be run in less than a second? What is the gain in running it for 1 minute? \n"
   ]
  },
  {
   "cell_type": "code",
   "execution_count": 87,
   "metadata": {},
   "outputs": [
    {
     "name": "stdout",
     "output_type": "stream",
     "text": [
      "-0.01999999999999795\n",
      "1.57074373850107\n",
      "1.5707959934615623\n"
     ]
    }
   ],
   "source": [
    "from numpy import arange, sqrt\n",
    "import decimal\n",
    "def integrate(func, a, b, steps):\n",
    "    res=0\n",
    "    w=(b-a)/steps\n",
    "    for i in arange(a,b, w):\n",
    "        res+=w*func(i)\n",
    "        #print(i)\n",
    "    return res\n",
    "\n",
    "print(integrate(lambda x:x,  -1, 1, 100))\n",
    "print(integrate(lambda x:(1-x**2)**0.5, -1, 1, 1000))\n",
    "print(integrate(lambda x:1/(1+x**2), -1, 1, 1000))"
   ]
  }
 ],
 "metadata": {
  "kernelspec": {
   "display_name": "Python 3 (ipykernel)",
   "language": "python",
   "name": "python3"
  },
  "language_info": {
   "codemirror_mode": {
    "name": "ipython",
    "version": 3
   },
   "file_extension": ".py",
   "mimetype": "text/x-python",
   "name": "python",
   "nbconvert_exporter": "python",
   "pygments_lexer": "ipython3",
   "version": "3.10.6"
  }
 },
 "nbformat": 4,
 "nbformat_minor": 2
}
