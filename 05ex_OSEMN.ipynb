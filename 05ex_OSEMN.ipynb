{
 "cells": [
  {
   "cell_type": "markdown",
   "metadata": {},
   "source": [
    "# OSEMN Exercises"
   ]
  },
  {
   "cell_type": "code",
   "execution_count": 1,
   "metadata": {},
   "outputs": [],
   "source": [
    "%matplotlib inline\n",
    "import pandas as pd\n",
    "import numpy as np"
   ]
  },
  {
   "cell_type": "markdown",
   "metadata": {},
   "source": [
    "1\\. Create a random list of numbers and then save it to a text file named \"simple_data.txt\""
   ]
  },
  {
   "cell_type": "code",
   "execution_count": 6,
   "metadata": {},
   "outputs": [],
   "source": [
    "with open(\"./data/simple_data.txt\", \"w\") as f:\n",
    "    f.write(\"\\n\".join([str(i) for i in np.random.random(size=(100,))]))\n"
   ]
  },
  {
   "cell_type": "markdown",
   "metadata": {},
   "source": [
    "2\\. Create a random matrix of 5x5 and then save it to a text file named \"data.txt\""
   ]
  },
  {
   "cell_type": "code",
   "execution_count": 5,
   "metadata": {},
   "outputs": [],
   "source": [
    "with open(\"./data/data.txt\", \"w\") as f:\n",
    "    f.write(\"\\n\".join([\" \".join([str(i) for i in j]) for j in np.random.random(size=(5,5))]))\n"
   ]
  },
  {
   "cell_type": "markdown",
   "metadata": {},
   "source": [
    "3\\. Load the saved txt file of point 2 and convert it to a csv file (by hand)"
   ]
  },
  {
   "cell_type": "code",
   "execution_count": 7,
   "metadata": {},
   "outputs": [],
   "source": [
    "with open(\"./data/data.txt\", \"r\") as f:\n",
    "    with open(\"./data/data.csv\", \"w\") as f2:\n",
    "        for l in f.read():\n",
    "            f2.write(\",\".join(l.split(\" \")))\n",
    "            \n"
   ]
  },
  {
   "cell_type": "markdown",
   "metadata": {},
   "source": [
    "4\\. load the binary file named *credit_card.dat* and convert the data into the real credit-card number.\n",
    "Each line correspond to a credit card number.\n",
    "Each character is composed by 6 bit (even the space) and the last 4 bit are just a padding\n",
    "\n",
    "**hint**: use the `chr()` function to convert a number to a char"
   ]
  },
  {
   "cell_type": "code",
   "execution_count": 98,
   "metadata": {},
   "outputs": [
    {
     "name": "stdout",
     "output_type": "stream",
     "text": [
      "7648 5673 3775 2271\n",
      "7648 5673 3775 2271\n",
      "\n",
      "\n",
      "3257 8247 3354 2266\n",
      "3257 8247 3354 2266\n",
      "\n",
      "\n",
      "2722 0001 4011 6652\n",
      "2722 0001 4011 6652\n",
      "\n",
      "\n",
      "0661 3063 3742 3150\n",
      "0661 3063 3742 3150\n",
      "\n",
      "\n",
      "0432 1608 1462 4742\n",
      "0432 1608 1462 4742\n",
      "\n",
      "\n",
      "5827 2027 8785 7303\n",
      "5827 2027 8785 7303\n",
      "\n",
      "\n",
      "5774 8528 2087 1117\n",
      "5774 8528 2087 1117\n",
      "\n",
      "\n",
      "8140 1210 6352 2845\n",
      "8140 1210 6352 2845\n",
      "\n",
      "\n",
      "5764 1133 7301 7100\n",
      "5764 1133 7301 7100\n",
      "\n",
      "\n",
      "6456 1737 4126 6726\n",
      "6456 1737 4126 6726\n",
      "\n",
      "\n",
      "1228 8631 7382 0000\n",
      "1228 8631 7382 0000\n",
      "\n",
      "\n",
      "7051 0160 5374 3166\n",
      "7051 0160 5374 3166\n",
      "\n",
      "\n",
      "0618 3587 1630 6376\n",
      "0618 3587 1630 6376\n",
      "\n",
      "\n",
      "1545 5454 7444 5636\n",
      "1545 5454 7444 5636\n",
      "\n",
      "\n",
      "6735 3116 3202 6834\n",
      "6735 3116 3202 6834\n",
      "\n",
      "\n",
      "7287 5011 1547 8413\n",
      "7287 5011 1547 8413\n",
      "\n",
      "\n",
      "7033 2607 3328 4200\n",
      "7033 2607 3328 4200\n",
      "\n",
      "\n",
      "2568 5244 1874 5024\n",
      "2568 5244 1874 5024\n",
      "\n",
      "\n",
      "1684 2253 7570 7118\n",
      "1684 2253 7570 7118\n",
      "\n",
      "\n",
      "0672 2576 0575 6631\n",
      "0672 2576 0575 6631\n",
      "\n",
      "\n",
      "6332 8353 8787 1340\n",
      "6332 8353 8787 1340\n",
      "\n",
      "\n",
      "1813 3361 1175 4211\n",
      "1813 3361 1175 4211\n",
      "\n",
      "\n",
      "2477 6450 8840 2368\n",
      "2477 6450 8840 2368\n",
      "\n",
      "\n",
      "5512 3505 2563 1326\n",
      "5512 3505 2563 1326\n",
      "\n",
      "\n",
      "3083 7882 0621 0025\n",
      "3083 7882 0621 0025\n",
      "\n",
      "\n",
      "4521 5148 8045 0334\n",
      "4521 5148 8045 0334\n",
      "\n",
      "\n",
      "7563 3654 8713 5787\n",
      "7563 3654 8713 5787\n",
      "\n",
      "\n",
      "8324 2664 0476 5561\n",
      "8324 2664 0476 5561\n",
      "\n",
      "\n",
      "0565 2504 7168 3510\n",
      "0565 2504 7168 3510\n",
      "\n",
      "\n",
      "5107 5507 1767 0738\n",
      "5107 5507 1767 0738\n",
      "\n",
      "\n",
      "2462 1821 2448 1443\n",
      "2462 1821 2448 1443\n",
      "\n",
      "\n",
      "2788 0638 6861 6554\n",
      "2788 0638 6861 6554\n",
      "\n",
      "\n",
      "5851 5873 5474 0547\n",
      "5851 5873 5474 0547\n",
      "\n",
      "\n",
      "0670 1004 4013 2655\n",
      "0670 1004 4013 2655\n",
      "\n",
      "\n",
      "5874 5506 3048 0806\n",
      "5874 5506 3048 0806\n",
      "\n",
      "\n",
      "2805 5401 8462 1260\n",
      "2805 5401 8462 1260\n",
      "\n",
      "\n",
      "5083 8406 6310 1862\n",
      "5083 8406 6310 1862\n",
      "\n",
      "\n",
      "1076 1445 3013 2266\n",
      "1076 1445 3013 2266\n",
      "\n",
      "\n",
      "8440 4804 4844 5277\n",
      "8440 4804 4844 5277\n",
      "\n",
      "\n",
      "4758 6141 0686 1387\n",
      "4758 6141 0686 1387\n",
      "\n",
      "\n",
      "7586 0675 0315 2568\n",
      "7586 0675 0315 2568\n",
      "\n",
      "\n",
      "2544 1258 7432 5165\n",
      "2544 1258 7432 5165\n",
      "\n",
      "\n",
      "3474 5023 4434 5626\n",
      "3474 5023 4434 5626\n",
      "\n",
      "\n",
      "1410 0270 0434 5086\n",
      "1410 0270 0434 5086\n",
      "\n",
      "\n",
      "7315 4446 1104 4215\n",
      "7315 4446 1104 4215\n",
      "\n",
      "\n",
      "0224 7742 8300 0266\n",
      "0224 7742 8300 0266\n",
      "\n",
      "\n",
      "0170 2700 3145 0640\n",
      "0170 2700 3145 0640\n",
      "\n",
      "\n",
      "2006 2437 8054 1600\n",
      "2006 2437 8054 1600\n",
      "\n",
      "\n",
      "8142 4055 1776 0026\n",
      "8142 4055 1776 0026\n",
      "\n",
      "\n",
      "3026 7380 1241 1084\n",
      "3026 7380 1241 1084\n",
      "\n",
      "\n",
      "\n",
      "\n",
      "\n",
      "\n",
      "\n"
     ]
    }
   ],
   "source": [
    "with open(\"./credit_card.dat\",\"rb\") as f:\n",
    "    for l in f.readlines():\n",
    "        #print(l)\n",
    "        \n",
    "        i=int(l,2)>>4\n",
    "        a=[]\n",
    "        while(i>0):\n",
    "            #print(i&0b111111)\n",
    "            a.append(chr(i&0b111111))\n",
    "            i=i>>6\n",
    "        print(\"\".join(reversed(a)))\n",
    "        \n",
    "        l=l.strip()\n",
    "        if(l==b''):\n",
    "            continue\n",
    "        a=[]\n",
    "        for i in range(0, 114, 6):\n",
    "            if(l[i:i+6]==b''):\n",
    "                continue\n",
    "            a.append(l[i:i+6])\n",
    "        s=[chr(int(i, base=2)) for i in a]\n",
    "        print(\"\".join(s)) \n",
    "        print(\"\\n\")"
   ]
  },
  {
   "cell_type": "markdown",
   "metadata": {},
   "source": [
    "5\\. Load the file \"user_data.json\", filter the data by the \"CreditCardType\" field equals to \"American Express\". Than save the data a to CSV."
   ]
  },
  {
   "cell_type": "code",
   "execution_count": 15,
   "metadata": {},
   "outputs": [],
   "source": [
    "import json\n",
    "data=json.load(open(\"./user_data.json\"))\n",
    "tosave=[]\n",
    "for i in data:\n",
    "    if i[\"CreditCardType\"]==\"American Express\":\n",
    "        tosave.append(i)\n",
    "\n",
    "ks=\"\"\n",
    "for k in tosave[0].keys():\n",
    "    ks+=k+\",\"\n",
    "ks=ks[:-1]\n",
    "\n",
    "vs=[]\n",
    "for i in tosave:\n",
    "    vs.append(\"\")\n",
    "    for k in ks.split(\",\"):\n",
    "        vs[-1]+=i[k]+\",\"\n",
    "    vs[-1]=vs[-1][:-1]\n",
    "    \n",
    "#print(ks+\"\\n\"+\"\\n\".join(vs))\n",
    "with open(\"am_exp_user_data.csv\", \"w\") as f:\n",
    "    f.write(ks+\"\\n\"+\"\\n\".join(vs))"
   ]
  },
  {
   "cell_type": "markdown",
   "metadata": {},
   "source": [
    "6\\. Load the file from this url: [https://www.dropbox.com/s/7u3lm737ogbqsg8/mushrooms_categorized.csv?dl=1](https://www.dropbox.com/s/7u3lm737ogbqsg8/mushrooms_categorized.csv?dl=1) with Pandas. \n",
    "+ Explore the data (see the info of the data)\n",
    "+ Draw the istogram of the 'class' field. Decribe what you see\n"
   ]
  },
  {
   "cell_type": "code",
   "execution_count": 14,
   "metadata": {},
   "outputs": [
    {
     "name": "stdout",
     "output_type": "stream",
     "text": [
      "Index(['class', 'cap-shape', 'cap-surface', 'cap-color', 'bruises', 'odor',\n",
      "       'gill-attachment', 'gill-spacing', 'gill-size', 'gill-color',\n",
      "       'stalk-shape', 'stalk-root', 'stalk-surface-above-ring',\n",
      "       'stalk-surface-below-ring', 'stalk-color-above-ring',\n",
      "       'stalk-color-below-ring', 'veil-type', 'veil-color', 'ring-number',\n",
      "       'ring-type', 'spore-print-color', 'population', 'habitat'],\n",
      "      dtype='object')\n"
     ]
    },
    {
     "data": {
      "image/png": "[encoded data removed]",
      "text/plain": [
       "<Figure size 432x288 with 1 Axes>"
      ]
     },
     "metadata": {
      "needs_background": "light"
     },
     "output_type": "display_data"
    }
   ],
   "source": [
    "import urllib.request\n",
    "with urllib.request.urlopen(\"https://www.dropbox.com/s/7u3lm737ogbqsg8/mushrooms_categorized.csv?dl=1\") as f:\n",
    "    df=pd.read_csv(f)\n",
    "    print(df.columns)\n",
    "    df[\"class\"].hist()"
   ]
  },
  {
   "cell_type": "markdown",
   "metadata": {},
   "source": [
    "7\\. Load the remote file [https://www.dropbox.com/s/vkl89yce7xjdq4n/regression_generated.csv?dl=1](https://www.dropbox.com/s/vkl89yce7xjdq4n/regression_generated.csv?dl=1) with Pandas and plot a scatter plot all possible combination of the following fields:\n",
    "    \n",
    "  + features_1\n",
    "  + features_2\n",
    "  + features_3"
   ]
  },
  {
   "cell_type": "code",
   "execution_count": 54,
   "metadata": {},
   "outputs": [
    {
     "data": {
      "image/png": "[encoded data removed]",
      "text/plain": [
       "<Figure size 432x288 with 9 Axes>"
      ]
     },
     "metadata": {
      "needs_background": "light"
     },
     "output_type": "display_data"
    }
   ],
   "source": [
    "import matplotlib.pyplot as plt\n",
    "with urllib.request.urlopen(\"https://www.dropbox.com/s/vkl89yce7xjdq4n/regression_generated.csv?dl=1\") as f:\n",
    "    df=pd.read_csv(f)\n",
    "    #print(df)\n",
    "    fig, ax=plt.subplots(3,3)\n",
    "    ax[0][1].scatter(df[\"features_1\"], df[\"features_2\"], marker=\".\")\n",
    "    ax[0][2].scatter(df[\"features_1\"], df[\"features_3\"], marker=\".\")\n",
    "    ax[1][2].scatter(df[\"features_2\"], df[\"features_3\"], marker=\".\")\n",
    "    ax[1][0].scatter(df[\"features_2\"], df[\"features_1\"], marker=\".\")\n",
    "    ax[2][0].scatter(df[\"features_3\"], df[\"features_1\"], marker=\".\")\n",
    "    ax[2][1].scatter(df[\"features_3\"], df[\"features_2\"], marker=\".\")"
   ]
  },
  {
   "cell_type": "markdown",
   "metadata": {},
   "source": [
    "8\\. Load the same file of point 6, and convert the file to json with Pandas."
   ]
  }
 ],
 "metadata": {
  "kernelspec": {
   "display_name": "Python 3 (ipykernel)",
   "language": "python",
   "name": "python3"
  },
  "language_info": {
   "codemirror_mode": {
    "name": "ipython",
    "version": 3
   },
   "file_extension": ".py",
   "mimetype": "text/x-python",
   "name": "python",
   "nbconvert_exporter": "python",
   "pygments_lexer": "ipython3",
   "version": "3.10.6"
  }
 },
 "nbformat": 4,
 "nbformat_minor": 2
}
