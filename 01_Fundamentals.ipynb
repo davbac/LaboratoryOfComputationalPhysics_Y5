{
 "cells": [
  {
   "cell_type": "markdown",
   "metadata": {},
   "source": [
    "# Modules/packages/libraries\n",
    "\n",
    "Definitions:\n",
    "\n",
    "  * Modules:\n",
    "  A module is a file which contains python functions, global variables etc. It is nothing but .py file which has python executable code / statement.\n",
    "\n",
    "  * Packages:\n",
    "  A package is a namespace which contains multiple package/modules. It is a directory which contains a special file `__init__.py`\n",
    "  \n",
    "  * Libraries:\n",
    "  A library is a collection of various packages. There is no difference between package and python library conceptually.\n",
    "  \n",
    "Modules/packages/libraries can be easily \"imported\" and made functional in your python code. A set of libriaries comes with every python installation. Others can be installed locally and then imported. Your own code sitting somewhere else in your local computer can be imported too.\n",
    "\n",
    "Further details (very important!) on packages and how to create them can be found online. We may find the need of creating our own during the course."
   ]
  },
  {
   "cell_type": "code",
   "execution_count": null,
   "metadata": {},
   "outputs": [],
   "source": [
    "###### all the \"stuff\" that is in the math library can be used\n",
    "import math\n",
    "print(math.pi)\n",
    "\n",
    "# you can give math a label for convenience\n",
    "import math as m\n",
    "print (m.pi)\n",
    "\n",
    "# alternatively you can import only a given \"thing\" from the library\n",
    "from math import pi    #you can add several libraries at once, just list them separated by a \", \"\n",
    "print (pi)\n",
    "\n",
    "# or just get everything (very dangerous!!!)\n",
    "from math import *\n",
    "print (sqrt(7))"
   ]
  },
  {
   "cell_type": "markdown",
   "metadata": {},
   "source": [
    "To know which modules are there for you to use just type:"
   ]
  },
  {
   "cell_type": "code",
   "execution_count": 3,
   "metadata": {},
   "outputs": [
    {
     "name": "stdout",
     "output_type": "stream",
     "text": [
      "\n",
      "Please wait a moment while I gather a list of all available modules...\n",
      "\n",
      "CommandNotFound     builtins            jupyter             rlcompleter\n",
      "Cryptodome          bz2                 jupyter_client      rmagic\n",
      "Cython              cProfile            jupyter_core        roman\n",
      "DistUpgrade         cairo               jupyterlab_pygments routes\n",
      "HweSupportStatus    calendar            jwt                 rpy2\n",
      "IPython             camera              kazam               run_tests__tests\n",
      "LanguageSelector    camera_test         key                 runpy\n",
      "NvidiaDetector      certifi             key_test            rwobject\n",
      "PIL                 cgi                 keyring             rwobject_test\n",
      "PyQt5               cgitb               keyword             samba\n",
      "Quirks              chardet             kiwisolver          scanext\n",
      "UbuntuDrivers       chm                 language_support_pkgs sched\n",
      "UpdateManager       chunk               launchpadlib        scipy\n",
      "Xlib                click               ldb                 scrap\n",
      "__future__          cmath               lib2to3             scrap_tags\n",
      "__main__            cmd                 libvirt             scrap_test\n",
      "__pyinstaller       code                libvirt_lxc         secrets\n",
      "_abc                codecs              libvirt_qemu        secretstorage\n",
      "_aix_support        codeop              libvirtaio          select\n",
      "_ast                collections         libvirtmod          selectors\n",
      "_asyncio            color               libvirtmod_lxc      send2trash\n",
      "_bisect             color_test          libvirtmod_qemu     setproctitle\n",
      "_blake2             colorama            libxml2             setuptools\n",
      "_bootsubprocess     colordict           libxml2mod          sgmllib\n",
      "_brotli             colorsys            linecache           shelve\n",
      "_bz2                compileall          locale              shlex\n",
      "_camera             concurrent          locals              shutil\n",
      "_camera_opencv      configparser        logging             signal\n",
      "_camera_vidcapture  constants           lsb_release         sip\n",
      "_cffi_backend       constants_test      lutris              sipconfig\n",
      "_codecs             contextlib          lxml                sipconfig_nd10\n",
      "_codecs_cn          contextvars         lz4                 site\n",
      "_codecs_hk          controller_test     lzma                sitecustomize\n",
      "_codecs_iso2022     copy                macaroonbakery      six\n",
      "_codecs_jp          copyreg             macosx              smtpd\n",
      "_codecs_kr          crypt               magic               smtplib\n",
      "_codecs_tw          cryptography        mailbox             sndarray\n",
      "_collections        css_parser          mailcap             sndarray_tags\n",
      "_collections_abc    cssselect           mako                sndarray_test\n",
      "_compat_pickle      cssutils            markdown            sndhdr\n",
      "_compression        csv                 markupsafe          snowballstemmer\n",
      "_contextvars        ctypes              marshal             socket\n",
      "_crypt              cups                mask                socketserver\n",
      "_csv                cupsext             mask_test           softwareproperties\n",
      "_ctypes             cupshelpers         math                soupsieve\n",
      "_ctypes_test        curses              math_test           speechd\n",
      "_curses             cursors             matplotlib          speechd_config\n",
      "_curses_panel       cursors_test        matplotlib_inline   sphinx\n",
      "_datetime           cycler              mechanize           sprite\n",
      "_dbm                cython              midi                sprite_test\n",
      "_dbus_bindings      cythonmagic         midi_test           spwd\n",
      "_dbus_glib_bindings dataclasses         mimetypes           sqlite3\n",
      "_decimal            datetime            mixer               sre_compile\n",
      "_distutils_hack     dateutil            mixer_music         sre_constants\n",
      "_distutils_system_mod dbm                 mixer_music_tags    sre_parse\n",
      "_elementtree        dbus                mixer_music_test    ssl\n",
      "_freetype           deb822              mixer_tags          stat\n",
      "_functools          debian              mixer_test          statistics\n",
      "_gdbm               debian_bundle       mmap                storemagic\n",
      "_hashlib            decimal             modulefinder        string\n",
      "_heapq              decorator           more_itertools      stringprep\n",
      "_imp                defer               mouse               struct\n",
      "_io                 defusedxml          mouse_test          subprocess\n",
      "_json               difflib             mouseinfo           sunau\n",
      "_ldb_text           dis                 mpl_toolkits        surface\n",
      "_locale             display             mpmath              surface_test\n",
      "_lsprof             display_test        msgpack             surfarray\n",
      "_lzma               distro              multiprocessing     surfarray_tags\n",
      "_markupbase         distro_info         nacl                surfarray_test\n",
      "_md5                distutils           nbclient            surflock\n",
      "_multibytecodec     dns                 nbconvert           surflock_test\n",
      "_multiprocessing    docs_test           nbformat            sympy\n",
      "_opcode             doctest             nest_asyncio        sympyprinting\n",
      "_operator           docutils            netifaces           symtable\n",
      "_osx_support        draw                netrc               sys\n",
      "_pickle             draw_py             newbuffer           sysconfig\n",
      "_posixshmem         draw_test           nis                 sysfont\n",
      "_posixsubprocess    drv_libxml2         nntplib             sysfont_test\n",
      "_py_abc             email               notebook            syslog\n",
      "_pydecimal          encodings           ntpath              systemd\n",
      "_pyio               encutils            nturl2path          tabnanny\n",
      "_pyrsistent_version entrypoints         numbers             talloc\n",
      "_queue              enum                numpy               tarfile\n",
      "_random             errno               oauthlib            tdb\n",
      "_rinterface_cffi_abi evdev               olefile             telnetlib\n",
      "_rinterface_cffi_api event               omp                 tempfile\n",
      "_sdl2               event_test          opcode              terminado\n",
      "_sha1               examples            operator            termios\n",
      "_sha256             fastevent           optparse            test\n",
      "_sha3               faulthandler        os                  test_test_\n",
      "_sha512             fcntl               ossaudiodev         test_utils\n",
      "_signal             feedparser          packaging           testpath\n",
      "_sitebuiltins       filecmp             pandas              tests\n",
      "_socket             fileinput           pandocfilters       texttable\n",
      "_sprite             fnmatch             parso               textwrap\n",
      "_sqlite3            font                pathlib             this\n",
      "_sre                fontTools           pcardext            threading\n",
      "_ssl                font_test           pdb                 threads\n",
      "_stat               fractions           pexpect             threads_test\n",
      "_statistics         freetype            pickle              time\n",
      "_string             freetype_tags       pickleshare         time_test\n",
      "_strptime           freetype_test       pickletools         timeit\n",
      "_struct             fs                  pip                 tkinter\n",
      "_symtable           ftfont              pipes               token\n",
      "_sysconfigdata__linux_x86_64-linux-gnu ftfont_tags         pixelarray          tokenize\n",
      "_sysconfigdata__x86_64-linux-gnu ftfont_test         pixelarray_test     tornado\n",
      "_tdb_text           ftplib              pixelcopy           touch_test\n",
      "_testbuffer         functools           pixelcopy_test      trace\n",
      "_testcapi           gast                pkg_resources       traceback\n",
      "_testimportmultiple gc                  pkgdata             tracemalloc\n",
      "_testinternalcapi   genericpath         pkgutil             traitlets\n",
      "_testmultiphase     getopt              platform            transform\n",
      "_thread             getpass             plistlib            transform_test\n",
      "_threading_local    gettext             ply                 tty\n",
      "_tkinter            gfxdraw             poplib              turtle\n",
      "_tracemalloc        gfxdraw_test        posix               types\n",
      "_uuid               gi                  posixpath           typing\n",
      "_warnings           glob                pprint              tzlocal\n",
      "_weakref            gpg                 problem_report      uaclient\n",
      "_weakrefset         graphlib            profile             ufoLib2\n",
      "_xxsubinterpreters  grp                 prometheus_client   ufw\n",
      "_xxtestfuzz         gyp                 prompt_toolkit      unicodedata\n",
      "_yaml               gzip                pstats              unicodedata2\n",
      "_zoneinfo           hashlib             pty                 unittest\n",
      "abc                 heapq               ptyprocess          uno\n",
      "aifc                hmac                pvectorc            unohelper\n",
      "alabaster           hpmudext            pwd                 urllib\n",
      "antigravity         html                py                  urllib3\n",
      "appdirs             html2text           py7zr               usbcreator\n",
      "apport              html5_parser        py_compile          uu\n",
      "apport_python_hook  html5lib            pyautogui           uuid\n",
      "apsw                http                pyclbr              venv\n",
      "apt                 httplib2            pydoc               version\n",
      "apt_inst            idna                pydoc_data          version_test\n",
      "apt_pkg             ifaddr              pyexpat             video_test\n",
      "aptdaemon           image               pygame              wadllib\n",
      "aptsources          image__save_gl_surface_test pygetwindow         warnings\n",
      "argon2              image_tags          pygments            wave\n",
      "argparse            image_test          pygtkcompat         wcwidth\n",
      "array               imageext            pylab               weakref\n",
      "ast                 imageext_tags       pymacaroons         webbrowser\n",
      "asynchat            imageext_test       pymsgbox            webencodings\n",
      "asyncio             imagesize           pyparsing           webob\n",
      "asyncore            imaplib             pyperclip           wheel\n",
      "atexit              imghdr              pypm                widgetsnbextension\n",
      "attr                imp                 pyrect              wsgiref\n",
      "audioop             importlib           pyrfc3339           xapian\n",
      "autoreload          importlib_metadata  pyrsistent          xdg\n",
      "axi                 inspect             pyscreeze           xdrlib\n",
      "babel               io                  pythran             xkit\n",
      "backcall            ipaddress           pytweening          xml\n",
      "base                ipykernel           pytz                xmlrpc\n",
      "base64              ipykernel_launcher  pyximport           xxlimited\n",
      "base_test           ipython_genutils    queue               xxlimited_35\n",
      "bdb                 ipywidgets          quopri              xxsubtype\n",
      "beniget             isympy              random              yaml\n",
      "binascii            itertools           re                  zeroconf\n",
      "binhex              janitor             readline            zipapp\n",
      "bisect              jedi                rect                zipfile\n",
      "bleach              jeepney             rect_test           zipimport\n",
      "blinker             jinja2              regex               zipp\n",
      "blit_test           joystick            reportlab           zlib\n",
      "brotli              joystick_test       reprlib             zmq\n",
      "bs4                 json                requests            zoneinfo\n",
      "bufferproxy         jsonpickle          requests_toolbelt   \n",
      "bufferproxy_test    jsonschema          resource            \n",
      "\n",
      "Enter any module name to get more help.  Or, type \"modules spam\" to search\n",
      "for modules whose name or summary contain the string \"spam\".\n",
      "\n",
      "None\n"
     ]
    }
   ],
   "source": [
    "print (help('modules') )\n"
   ]
  },
  {
   "cell_type": "markdown",
   "metadata": {},
   "source": [
    "`pip` is a special package. It is used from the command line to install properly (e.g. matching the version of the local packages) new packages. It can also be used from within python to check i.e. the set installed packages and their versions. N.B.: only the installed packages on top of the default ones will be listed "
   ]
  },
  {
   "cell_type": "code",
   "execution_count": 4,
   "metadata": {},
   "outputs": [
    {
     "ename": "AttributeError",
     "evalue": "module 'pip._internal.utils.misc' has no attribute 'get_installed_distributions'",
     "output_type": "error",
     "traceback": [
      "\u001b[0;31m---------------------------------------------------------------------------\u001b[0m",
      "\u001b[0;31mAttributeError\u001b[0m                            Traceback (most recent call last)",
      "\u001b[0;32m/tmp/ipykernel_3196/1411100875.py\u001b[0m in \u001b[0;36m<module>\u001b[0;34m\u001b[0m\n\u001b[1;32m      1\u001b[0m \u001b[0;32mimport\u001b[0m \u001b[0mpip\u001b[0m\u001b[0;34m\u001b[0m\u001b[0;34m\u001b[0m\u001b[0m\n\u001b[0;32m----> 2\u001b[0;31m \u001b[0msorted\u001b[0m\u001b[0;34m(\u001b[0m\u001b[0;34m[\u001b[0m\u001b[0;34m\"%s==%s\"\u001b[0m \u001b[0;34m%\u001b[0m \u001b[0;34m(\u001b[0m\u001b[0mi\u001b[0m\u001b[0;34m.\u001b[0m\u001b[0mkey\u001b[0m\u001b[0;34m,\u001b[0m \u001b[0mi\u001b[0m\u001b[0;34m.\u001b[0m\u001b[0mversion\u001b[0m\u001b[0;34m)\u001b[0m \u001b[0;32mfor\u001b[0m \u001b[0mi\u001b[0m \u001b[0;32min\u001b[0m \u001b[0mpip\u001b[0m\u001b[0;34m.\u001b[0m\u001b[0m_internal\u001b[0m\u001b[0;34m.\u001b[0m\u001b[0mutils\u001b[0m\u001b[0;34m.\u001b[0m\u001b[0mmisc\u001b[0m\u001b[0;34m.\u001b[0m\u001b[0mget_installed_distributions\u001b[0m\u001b[0;34m(\u001b[0m\u001b[0;34m)\u001b[0m\u001b[0;34m]\u001b[0m\u001b[0;34m)\u001b[0m\u001b[0;34m\u001b[0m\u001b[0;34m\u001b[0m\u001b[0m\n\u001b[0m",
      "\u001b[0;31mAttributeError\u001b[0m: module 'pip._internal.utils.misc' has no attribute 'get_installed_distributions'"
     ]
    }
   ],
   "source": [
    "import pip\n",
    "sorted([\"%s==%s\" % (i.key, i.version) for i in pip._internal.utils.misc.get_installed_distributions()])"
   ]
  },
  {
   "cell_type": "markdown",
   "metadata": {},
   "source": [
    "# Functions"
   ]
  },
  {
   "cell_type": "code",
   "execution_count": 7,
   "metadata": {},
   "outputs": [
    {
     "name": "stdout",
     "output_type": "stream",
     "text": [
      "9\n",
      "27\n",
      "cube 27\n",
      "square 9\n"
     ]
    }
   ],
   "source": [
    "def square(x):\n",
    "    \"\"\"Square of x.\"\"\"\n",
    "    return x*x\n",
    "\n",
    "def cube(x):\n",
    "    \"\"\"Cube of x.\"\"\"\n",
    "    return x*x*x\n",
    "\n",
    "# create a dictionary of functions\n",
    "funcs = {\n",
    "    'square': square,\n",
    "    'cube': cube,\n",
    "}\n",
    "\n",
    "x = 3\n",
    "print(square(x))\n",
    "print(cube(x))\n",
    "\n",
    "for func in sorted(funcs):\n",
    "    print (func, funcs[func](x))"
   ]
  },
  {
   "cell_type": "markdown",
   "metadata": {},
   "source": [
    "## Functions arguments"
   ]
  },
  {
   "cell_type": "markdown",
   "metadata": {},
   "source": [
    "What is passsed to a function is a copy of the input. Imagine we have a list *x =[1, 2, 3]*, i.e. a mutable object. If within the function the content of *x* is directly changed (e.g. *x[0] = 999*), then *x* changes outside the funciton as well. "
   ]
  },
  {
   "cell_type": "code",
   "execution_count": null,
   "metadata": {},
   "outputs": [],
   "source": [
    "def modify(x):\n",
    "    x[0] = 999\n",
    "    return x\n",
    "\n",
    "x = [1,2,3]\n",
    "print (x)\n",
    "print (modify(x))\n",
    "print (x)"
   ]
  },
  {
   "cell_type": "markdown",
   "metadata": {},
   "source": [
    "However, if *x* is reassigned within the function to a new object (e.g. another list), then the copy of the name *x* now points to the new object, but *x* outside the function is unhcanged."
   ]
  },
  {
   "cell_type": "code",
   "execution_count": null,
   "metadata": {},
   "outputs": [],
   "source": [
    "def no_modify(x):\n",
    "    x = [4,5,6]\n",
    "    return x\n",
    "\n",
    "x = [1,2,3]\n",
    "print (x)\n",
    "print (no_modify(x))\n",
    "print (x)\n"
   ]
  },
  {
   "cell_type": "markdown",
   "metadata": {},
   "source": [
    "What if the function tries to modify the value of an immutable object?"
   ]
  },
  {
   "cell_type": "markdown",
   "metadata": {},
   "source": [
    "Binding of default arguments occurs at function definition:"
   ]
  },
  {
   "cell_type": "code",
   "execution_count": null,
   "metadata": {},
   "outputs": [],
   "source": [
    "def f(x = []):\n",
    "    x.append(1)\n",
    "    return x\n",
    "\n",
    "print (f())\n",
    "print (f())\n",
    "print (f(x = [9,9,9]))\n",
    "print (f())\n",
    "print (f())"
   ]
  },
  {
   "cell_type": "markdown",
   "metadata": {},
   "source": [
    "Try to aviod that!!"
   ]
  },
  {
   "cell_type": "code",
   "execution_count": null,
   "metadata": {},
   "outputs": [],
   "source": [
    "def f(x = None):\n",
    "    if x is None:\n",
    "        x = []\n",
    "    x.append(1)\n",
    "    return x\n",
    "\n",
    "print (f())\n",
    "print (f())\n",
    "print (f(x = [9,9,9]))\n",
    "print (f())\n",
    "print (f())"
   ]
  },
  {
   "cell_type": "markdown",
   "metadata": {},
   "source": [
    "## Higher order functions\n",
    "\n",
    "A function that uses another function as an input argument or returns a function is known as a higher-order function (HOF). The most familiar examples are `map` and `filter`."
   ]
  },
  {
   "cell_type": "markdown",
   "metadata": {},
   "source": [
    "### map\n",
    "\n",
    "The map function applies a function to each member of a collection"
   ]
  },
  {
   "cell_type": "code",
   "execution_count": null,
   "metadata": {},
   "outputs": [],
   "source": [
    "x = list(map(square, range(5))) \n",
    "print (x)\n",
    "\n",
    "# Note the difference w.r.t python 2. In python 3 map retuns an iterator so you can do stuff like:\n",
    "for i in map(square,range(5)): print(i)\n",
    "\n",
    "# or\n",
    "[i for i in map(square,range(6))]"
   ]
  },
  {
   "cell_type": "markdown",
   "metadata": {},
   "source": [
    "### filter\n",
    "\n",
    "The filter function applies a predicate to each member of a collection, retaining only those members where the predicate is True"
   ]
  },
  {
   "cell_type": "code",
   "execution_count": null,
   "metadata": {},
   "outputs": [],
   "source": [
    "def is_even(x):\n",
    "    return x%2 == 0\n",
    "\n",
    "print (list(filter(is_even, range(5))))"
   ]
  },
  {
   "cell_type": "markdown",
   "metadata": {},
   "source": [
    "Combinations in sequence of HOF are obviously possible"
   ]
  },
  {
   "cell_type": "code",
   "execution_count": null,
   "metadata": {},
   "outputs": [],
   "source": [
    "list(map(square, filter(is_even, range(5))))"
   ]
  },
  {
   "cell_type": "markdown",
   "metadata": {},
   "source": [
    "### reduce\n",
    "\n",
    "The reduce function reduces a collection using a binary operator to combine items two at a time. More often than not reduce can be substituted with a more efficient for loop. It is worth mentioning it for its key role in big-data applications together with map (the map-reduce paradigm). \n",
    "N.B.: it no loger exist as built-in function in python 3, it is now part of the `functools` library"
   ]
  },
  {
   "cell_type": "code",
   "execution_count": 1,
   "metadata": {},
   "outputs": [
    {
     "data": {
      "text/plain": [
       "15"
      ]
     },
     "execution_count": 1,
     "metadata": {},
     "output_type": "execute_result"
    }
   ],
   "source": [
    "from functools import reduce\n",
    "\n",
    "def my_add(x, y):\n",
    "    return x + y\n",
    "\n",
    "# another implementation of the sum function\n",
    "reduce(my_add, [1,2,3,4,5])"
   ]
  },
  {
   "cell_type": "markdown",
   "metadata": {},
   "source": [
    "### zip\n",
    "\n",
    "zip is useful when you need to iterate over matched elements of multiple lists"
   ]
  },
  {
   "cell_type": "code",
   "execution_count": 5,
   "metadata": {},
   "outputs": [
    {
     "name": "stdout",
     "output_type": "stream",
     "text": [
      "1 10 a\n",
      "2 20 b\n",
      "3 30 c\n",
      "4 40 d\n"
     ]
    }
   ],
   "source": [
    "xs = [1, 2, 3, 4]\n",
    "ys = [10, 20, 30, 40]\n",
    "zs = ['a', 'b', 'c', 'd', 'e']\n",
    "\n",
    "for x, y, z in zip(xs, ys, zs):\n",
    "    print (x, y, z)"
   ]
  },
  {
   "cell_type": "markdown",
   "metadata": {},
   "source": [
    "### Custom HOF"
   ]
  },
  {
   "cell_type": "code",
   "execution_count": 8,
   "metadata": {},
   "outputs": [
    {
     "name": "stdout",
     "output_type": "stream",
     "text": [
      "30\n",
      "100\n"
     ]
    }
   ],
   "source": [
    "def custom_sum(xs, transform):\n",
    "    \"\"\"Returns the sum of xs after a user specified transform.\"\"\"\n",
    "    return sum(map(transform, xs))\n",
    "\n",
    "xs = range(5)\n",
    "print (custom_sum(xs, square))\n",
    "print (custom_sum(xs, cube))\n",
    "\n"
   ]
  },
  {
   "cell_type": "markdown",
   "metadata": {},
   "source": [
    "### Returning a function"
   ]
  },
  {
   "cell_type": "code",
   "execution_count": null,
   "metadata": {},
   "outputs": [],
   "source": [
    "def make_logger(target):\n",
    "    def logger(data):\n",
    "        with open(target, 'a') as f:\n",
    "            f.write(data + '\\n')\n",
    "    return logger\n",
    "\n",
    "foo_logger = make_logger('foo.txt') #foo.txt will be created if not there already\n",
    "foo_logger('Hello')\n",
    "foo_logger('World')"
   ]
  },
  {
   "cell_type": "code",
   "execution_count": null,
   "metadata": {},
   "outputs": [],
   "source": [
    "! cat 'foo.txt'"
   ]
  },
  {
   "cell_type": "markdown",
   "metadata": {},
   "source": [
    "## Anonimous functions (lambda)\n",
    "\n",
    "When using functional style, there is often the need to create specific functions that perform a limited task as input to a HOF such as map or filter. In such cases, these functions are often written as anonymous or lambda functions. \n",
    "The syntax is as follows:\n",
    "\n",
    "lambda *arguments* : *expression*\n",
    "\n",
    "\n",
    "If you find it hard to understand what a lambda function is doing, it should probably be rewritten as a regular function."
   ]
  },
  {
   "cell_type": "code",
   "execution_count": null,
   "metadata": {},
   "outputs": [],
   "source": [
    "my_sum = lambda x,y: x+y\n",
    "my_sum(3,4)"
   ]
  },
  {
   "cell_type": "code",
   "execution_count": null,
   "metadata": {},
   "outputs": [],
   "source": [
    "for i in map(lambda x: x*x, range(5)): print (i)"
   ]
  },
  {
   "cell_type": "code",
   "execution_count": null,
   "metadata": {},
   "outputs": [],
   "source": [
    "# what does this function do?\n",
    "from functools import reduce\n",
    "s1 = reduce(lambda x, y: x+y, map(lambda x: x**2, range(1,10)))\n",
    "print(s1)\n"
   ]
  },
  {
   "cell_type": "markdown",
   "metadata": {},
   "source": [
    "## Recursive functions "
   ]
  },
  {
   "cell_type": "code",
   "execution_count": null,
   "metadata": {},
   "outputs": [],
   "source": [
    "def fib1(n):\n",
    "    \"\"\"Fib with recursion.\"\"\"\n",
    "\n",
    "    # base case\n",
    "    if n==0 or n==1:\n",
    "        return 1\n",
    "    # recursive case\n",
    "    else:\n",
    "        return fib1(n-1) + fib1(n-2)\n",
    "\n",
    "    \n",
    "print ([fib1(i) for i in range(10)])"
   ]
  },
  {
   "cell_type": "code",
   "execution_count": null,
   "metadata": {},
   "outputs": [],
   "source": [
    "# In Python, a more efficient version that does not use recursion is\n",
    "\n",
    "def fib2(n):\n",
    "    \"\"\"Fib without recursion.\"\"\"\n",
    "    a, b = 0, 1\n",
    "    for i in range(1, n+1):\n",
    "        a, b = b, a+b\n",
    "    return b\n",
    "\n",
    "print ([fib2(i) for i in range(10)])"
   ]
  },
  {
   "cell_type": "code",
   "execution_count": null,
   "metadata": {},
   "outputs": [],
   "source": [
    "# check indeed the timing:\n",
    "\n",
    "%timeit fib1(20)\n",
    "%timeit fib2(20)\n"
   ]
  },
  {
   "cell_type": "markdown",
   "metadata": {},
   "source": [
    "## Iterators\n",
    "\n",
    "Iterators represent streams of values. Because only one value is consumed at a time, they use very little memory. Use of iterators is very helpful for working with data sets too large to fit into RAM."
   ]
  },
  {
   "cell_type": "code",
   "execution_count": null,
   "metadata": {},
   "outputs": [],
   "source": [
    "# Iterators can be created from sequences with the built-in function iter()\n",
    "\n",
    "xs = [1,2,3]\n",
    "x_iter = iter(xs)\n",
    "\n",
    "print (next(x_iter))\n",
    "print (next(x_iter))\n",
    "print (next(x_iter))\n",
    "print (next(x_iter))"
   ]
  },
  {
   "cell_type": "code",
   "execution_count": null,
   "metadata": {},
   "outputs": [],
   "source": [
    "# Most commonly, iterators are used (automatically) within a for loop\n",
    "# which terminates when it encouters a StopIteration exception\n",
    "\n",
    "x_iter = iter(xs)\n",
    "for x in x_iter:\n",
    "    print (x)"
   ]
  },
  {
   "cell_type": "markdown",
   "metadata": {},
   "source": [
    "## More on comprehensions"
   ]
  },
  {
   "cell_type": "code",
   "execution_count": 9,
   "metadata": {},
   "outputs": [
    {
     "name": "stdout",
     "output_type": "stream",
     "text": [
      "<generator object <genexpr> at 0x7f4c2a2f1e00>\n",
      "[0, 1, 2, 3, 4, 5, 6, 7, 8, 9]\n",
      "{0, 1, 2, 3, 4, 5, 6, 7, 8, 9}\n",
      "{0: 'x', 1: 'x', 2: 'x', 3: 'x', 4: 'x', 5: 'x', 6: 'x', 7: 'x', 8: 'x', 9: 'x'}\n"
     ]
    }
   ],
   "source": [
    "# A generator expression\n",
    "\n",
    "print ((x for x in range(10)))\n",
    "\n",
    "# A list comprehesnnion\n",
    "\n",
    "print ([x for x in range(10)])\n",
    "\n",
    "# A set comprehension\n",
    "\n",
    "print ({x for x in range(10)})\n",
    "\n",
    "# A dictionary comprehension\n",
    "\n",
    "print ({x: \"x\" for x in range(10)})"
   ]
  },
  {
   "cell_type": "markdown",
   "metadata": {},
   "source": [
    "## Useful Modules\n",
    "\n",
    "You may want to have a look at the content of the following modules for further usage of (HO) functions:\n",
    "  - [operator](https://docs.python.org/3/library/operator.html)\n",
    "  - [functools](https://docs.python.org/3/library/functools.html)\n",
    "  - [itertools](https://docs.python.org/3/library/itertools.html)\n",
    "  - [toolz](https://pypi.org/project/toolz/)\n",
    "  - [funcy](https://pypi.org/project/funcy/)"
   ]
  },
  {
   "cell_type": "markdown",
   "metadata": {},
   "source": [
    "## Decorators\n",
    "\n",
    "Decorators are a type of HOF that take a function and return a wrapped function that provides additional useful properties.\n",
    "\n",
    "Examples:\n",
    "\n",
    "  - logging\n",
    "  - profiling\n",
    "  - Just-In-Time (JIT) compilation"
   ]
  },
  {
   "cell_type": "code",
   "execution_count": null,
   "metadata": {},
   "outputs": [],
   "source": [
    "def my_decorator(func):\n",
    "    def wrapper():\n",
    "        print(\"Something is happening before the function is called.\")\n",
    "        func()\n",
    "        print(\"Something is happening after the function is called.\")\n",
    "    return wrapper\n",
    "\n",
    "def say_whee():\n",
    "    print(\"Whee!\")\n",
    "\n",
    "say_whee = my_decorator(say_whee)"
   ]
  },
  {
   "cell_type": "code",
   "execution_count": null,
   "metadata": {},
   "outputs": [],
   "source": [
    "say_whee()"
   ]
  },
  {
   "cell_type": "markdown",
   "metadata": {},
   "source": [
    "Python allows you to use decorators in a simpler way with the @ symbol, sometimes called the “pie” syntax"
   ]
  },
  {
   "cell_type": "code",
   "execution_count": null,
   "metadata": {},
   "outputs": [],
   "source": [
    "def my_decorator(func):\n",
    "    def wrapper():\n",
    "        print(\"Something is happening before the function is called.\")\n",
    "        func()\n",
    "        print(\"Something is happening after the function is called.\")\n",
    "    return wrapper\n",
    "\n",
    "@my_decorator\n",
    "def say_whee():\n",
    "    print(\"Whee!\")"
   ]
  },
  {
   "cell_type": "code",
   "execution_count": null,
   "metadata": {},
   "outputs": [],
   "source": [
    "say_whee()"
   ]
  },
  {
   "cell_type": "markdown",
   "metadata": {},
   "source": [
    "# Classes and Objects\n",
    "\n",
    "Old school object-oriented programming is possible and often used in python. Classes are defined similarly to standard object-oriented languages, with similar functionalities.\n",
    "\n",
    "The main python doc [page](https://docs.python.org/3/tutorial/classes.html) is worth reading through "
   ]
  },
  {
   "cell_type": "code",
   "execution_count": null,
   "metadata": {},
   "outputs": [],
   "source": [
    "class Pet:\n",
    "    # the \"constructor\"\n",
    "    def __init__(self, name, age):  #inizialize the elements of the class\n",
    "        self.name=name\n",
    "        self.age=age\n",
    "    # class functions take the \"self\" parameter !!!\n",
    "    def set_name(self,name):\n",
    "        self.name=name\n",
    "    def convert_age(self,factor):\n",
    "        self.age*=factor\n",
    "\n",
    "buddy=Pet(\"buddy\",12)\n",
    "print (buddy.name, buddy.age)\n",
    "buddy.age=3\n",
    "print (buddy.age)\n",
    "\n"
   ]
  },
  {
   "cell_type": "code",
   "execution_count": null,
   "metadata": {},
   "outputs": [],
   "source": [
    "# ineritance is straightforward\n",
    "class Dog(Pet):\n",
    "    # the following variables is \"global\", i.e. holds for all \"Dog\" objects\n",
    "    species = \"mammal\"\n",
    "    # functions can be redefined as usual\n",
    "    def convert_age(self):\n",
    "        self.age*=7\n",
    "    def set_species(self, species):\n",
    "        self.species = species\n",
    "        \n",
    "puppy=Dog(\"tobia\",10)\n",
    "print(puppy.name)\n",
    "puppy.convert_age()\n",
    "print(puppy.age)\n",
    "\n"
   ]
  },
  {
   "cell_type": "code",
   "execution_count": null,
   "metadata": {},
   "outputs": [],
   "source": []
  }
 ],
 "metadata": {
  "kernelspec": {
   "display_name": "Python 3 (ipykernel)",
   "language": "python",
   "name": "python3"
  },
  "language_info": {
   "codemirror_mode": {
    "name": "ipython",
    "version": 3
   },
   "file_extension": ".py",
   "mimetype": "text/x-python",
   "name": "python",
   "nbconvert_exporter": "python",
   "pygments_lexer": "ipython3",
   "version": "3.10.6"
  }
 },
 "nbformat": 4,
 "nbformat_minor": 2
}
